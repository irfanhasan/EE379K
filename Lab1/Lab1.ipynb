{
 "cells": [
  {
   "cell_type": "markdown",
   "metadata": {},
   "source": [
    "# EE379K: Lab 1\n",
    "## Group Members: Irfan Hasan (ih3976), Peter Zhang (yz7724)"
   ]
  },
  {
   "cell_type": "markdown",
   "metadata": {},
   "source": [
    "## Question 1"
   ]
  },
  {
   "cell_type": "code",
   "execution_count": 1,
   "metadata": {},
   "outputs": [
    {
     "name": "stdout",
     "output_type": "stream",
     "text": [
      "1st Gaussian: mean: -10, standard deviation: 5\n",
      "2nd Gaussian: mean: 10, standard deviation: 5\n"
     ]
    },
    {
     "data": {
      "image/png": "[encoded data removed]",
      "text/plain": [
       "<matplotlib.figure.Figure at 0x110ceaa58>"
      ]
     },
     "metadata": {},
     "output_type": "display_data"
    }
   ],
   "source": [
    "import random\n",
    "import matplotlib.pyplot as plt\n",
    "\n",
    "mu1, sigma1 = -10, 5\n",
    "mu2, sigma2 = 10, 5\n",
    "\n",
    "print (\"1st Gaussian: mean: \" + str(mu1) + \", standard deviation: \" + str(sigma1))\n",
    "print (\"2nd Gaussian: mean: \" + str(mu2) + \", standard deviation: \" + str(sigma2))\n",
    "\n",
    "gau1 = []\n",
    "\n",
    "for i in range(0, 1000):\n",
    "\tgau1.append(int(random.gauss(mu1, sigma1) + random.gauss(mu2, sigma2)))\n",
    "\n",
    "plt.hist(gau1, bins=\"auto\")\n",
    "plt.title(\"1000 Integers of Sum of Two Gaussians\")\n",
    "plt.show()"
   ]
  },
  {
   "cell_type": "markdown",
   "metadata": {},
   "source": [
    "## Question 2"
   ]
  },
  {
   "cell_type": "code",
   "execution_count": 2,
   "metadata": {},
   "outputs": [
    {
     "data": {
      "image/png": "[encoded data removed]",
      "text/plain": [
       "<matplotlib.figure.Figure at 0x10fb06978>"
      ]
     },
     "metadata": {},
     "output_type": "display_data"
    }
   ],
   "source": [
    "import random\n",
    "import matplotlib.pyplot as plt\n",
    "\n",
    "# function definitions\n",
    "def createBernolli(n):\n",
    "\tx = 0\n",
    "\tfor i in range(0, n):\n",
    "\t\tx += random.randrange(-1, 2, 2)\n",
    "\treturn float(x) / n\n",
    "\n",
    "# main\n",
    "n = 250\n",
    "data = []\n",
    "\n",
    "for i in range(0, 1000):\n",
    "\tdata.append(createBernolli(n))\n",
    "\n",
    "plt.hist(data, bins=\"auto\")\n",
    "plt.title(\"Bernoulli Variable with n = \" + str(n))\n",
    "plt.show()"
   ]
  },
  {
   "cell_type": "markdown",
   "metadata": {},
   "source": [
    "## Question 3"
   ]
  },
  {
   "cell_type": "code",
   "execution_count": 3,
   "metadata": {},
   "outputs": [
    {
     "name": "stdout",
     "output_type": "stream",
     "text": [
      "25000 data with mu=0 and std=5\n",
      "est mu is -0.0011681731867162288\n",
      "est std is 4.9992971774294706\n"
     ]
    }
   ],
   "source": [
    "import random\n",
    "import numpy\n",
    "import math\n",
    "\n",
    "data = []\n",
    "for i in range (0, 25000):\n",
    "\tdata.append(random.gauss(0, 5))\n",
    "print(\"25000 data with mu=0 and std=5\")\n",
    "\n",
    "total = 0\n",
    "for d in data:\n",
    "\ttotal += d\n",
    "mu = total / 25000.0\n",
    "print(\"est mu is \" + str(mu))\n",
    "\n",
    "total = 0\n",
    "for d in data:\n",
    "\ttotal += (d - mu) ** 2\n",
    "std = math.sqrt(total / 24999.0)\n",
    "print(\"est std is \" + str(std))"
   ]
  },
  {
   "cell_type": "markdown",
   "metadata": {},
   "source": [
    "## Question 4"
   ]
  },
  {
   "cell_type": "code",
   "execution_count": 1,
   "metadata": {},
   "outputs": [
    {
     "name": "stdout",
     "output_type": "stream",
     "text": [
      "Mean matrix: [-4.990998844809096,4.931690199624747]\n",
      "Covariance matrix:\n",
      "[[20.227728690907441, 0.86546949325175204], [0.86546949325175204, 30.519494866314119]]\n"
     ]
    }
   ],
   "source": [
    "import numpy as np\n",
    "mean, cov = [-5, 5], [(20, 0.8), (0.8, 30)]\n",
    "x, y = np.random.multivariate_normal(mean, cov, size=10000).T\n",
    "\n",
    "mean_x = np.sum(x)/10000\n",
    "mean_y = np.sum(y)/10000\n",
    "\n",
    "cov_matrix = [[0 for x in range(2)] for y in range(2)]\n",
    "\n",
    "sum=0\n",
    "for i in range(len(x)):\n",
    "    sum += ((x[i] - mean_x) * (x[i] - mean_x))\n",
    "cov_matrix[0][0] = sum/9999\n",
    "sum=0\n",
    "\n",
    "for i in range(len(x)):\n",
    "    sum += ((x[i] - mean_x) * (y[i] - mean_y))\n",
    "cov_matrix[0][1] = sum/9999\n",
    "sum=0\n",
    "\n",
    "for i in range(len(x)):\n",
    "    sum += ((y[i] - mean_y) * (x[i] - mean_x))\n",
    "cov_matrix[1][0] = sum/9999\n",
    "sum=0\n",
    "\n",
    "for i in range(len(x)):\n",
    "    sum += ((y[i] - mean_y) * (y[i] - mean_y))\n",
    "cov_matrix[1][1] = sum/9999\n",
    "sum=0\n",
    "\n",
    "print('Mean matrix: [{},{}]'.format(mean_x, mean_y))\n",
    "print('Covariance matrix:')\n",
    "print(cov_matrix)"
   ]
  },
  {
   "cell_type": "markdown",
   "metadata": {},
   "source": [
    "## Question 5"
   ]
  },
  {
   "cell_type": "code",
   "execution_count": 16,
   "metadata": {
    "scrolled": true
   },
   "outputs": [
    {
     "name": "stdout",
     "output_type": "stream",
     "text": [
      "a. 451 patients and 280 features\n",
      "\n",
      "b. Age, Gender, Weight, and idk\n",
      "\n",
      "c. Yes there are missing values\n",
      "\n",
      "d. We can select a subset of features and use that subset to evalute the model. Keep doing this for different\n",
      "combinations of subsets, until we determine the most important ones\n",
      "Most important features: age, gender, weight\n"
     ]
    }
   ],
   "source": [
    "import pandas as pd\n",
    "import numpy as np\n",
    "\n",
    "df = pd.read_csv(\"PatientData.csv\")\n",
    "print('a. {} patients and 280 features\\n'.format(len(df.index)))\n",
    "print('b. Age, Gender, Weight, and idk\\n')\n",
    "print('c. Yes there are missing values\\n')\n",
    "df.fillna(df.mean())\n",
    "print('d. We can select a subset of features and use that subset to evalute the model. Keep doing this for different')\n",
    "print('combinations of subsets, until we determine the most important ones')\n",
    "print('Most important features: age, gender, weight')"
   ]
  }
 ],
 "metadata": {
  "kernelspec": {
   "display_name": "Python 3",
   "language": "python",
   "name": "python3"
  },
  "language_info": {
   "codemirror_mode": {
    "name": "ipython",
    "version": 3
   },
   "file_extension": ".py",
   "mimetype": "text/x-python",
   "name": "python",
   "nbconvert_exporter": "python",
   "pygments_lexer": "ipython3",
   "version": "3.6.1"
  }
 },
 "nbformat": 4,
 "nbformat_minor": 2
}
