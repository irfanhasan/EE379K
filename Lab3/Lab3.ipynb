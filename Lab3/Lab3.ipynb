{
 "cells": [
  {
   "cell_type": "markdown",
   "metadata": {},
   "source": [
    "# EE379K: Lab 2\n",
    "## Group Members: Irfan Hasan (ih3976), Peter Zhang (yz7724)"
   ]
  },
  {
   "cell_type": "markdown",
   "metadata": {},
   "source": [
    "# Question 1"
   ]
  },
  {
   "cell_type": "code",
   "execution_count": 16,
   "metadata": {},
   "outputs": [
    {
     "name": "stdout",
     "output_type": "stream",
     "text": [
      "-------- Q1 --------\n",
      "\n",
      "A vector inside S is any vector that is a linear combination of v1, v2, v3, v4\n",
      "Thus [0,2,0,2] is a vector inside S\n",
      "A vector not inside S is [1,1,1,1]\n",
      "\n",
      "Perpendicular?\n",
      "\n",
      "To check if a new vector is in S we can see if the vector is a linear combination of the vectors in S\n",
      "\n",
      "-------- Q2 --------\n",
      "\n",
      "The dimension of S is 2\n",
      "\n",
      "-------- Q3 ---------\n",
      "\n",
      "A QR decomposition provides an orthogonal basis for the column space of A\n",
      "If the rank of A is n, then the first n columns of q form a basis for the column space of A.\n",
      "\n",
      "Orthonormal basis for S: \n",
      "\n",
      "[[-0.18257419  0.2236068 ]\n",
      " [-0.36514837 -0.67082039]\n",
      " [-0.54772256  0.67082039]\n",
      " [-0.73029674 -0.2236068 ]]\n"
     ]
    }
   ],
   "source": [
    "import numpy as np\n",
    "import sympy\n",
    "\n",
    "\n",
    "v1 = np.array([1, 2, 3, 4])\n",
    "v2 = np.array([0, 1, 0, 1])\n",
    "v3 = np.array([1, 4, 3, 6])\n",
    "v4 = np.array([2, 11, 6, 15])\n",
    "matrix = np.vstack((v1, v2, v3, v4))\n",
    "\n",
    "print('-------- Q1 --------\\n')\n",
    "print('A vector inside S is any vector that is a linear combination of v1, v2, v3, v4')\n",
    "print('Thus [0,2,0,2] is a vector inside S')\n",
    "print('A vector not inside S is [1,1,1,1]\\n')\n",
    "print('Perpendicular?\\n')\n",
    "print('To check if a new vector is in S we can see if the vector is a linear combination of the vectors in S\\n')\n",
    "\n",
    "print('-------- Q2 --------\\n')\n",
    "rank = np.linalg.matrix_rank(matrix)\n",
    "print('The dimension of S is {}'.format(rank))\n",
    "\n",
    "print('\\n-------- Q3 ---------\\n')\n",
    "print('A QR decomposition provides an orthogonal basis for the column space of A')\n",
    "print('If the rank of A is n, then the first n columns of q form a basis for the column space of A.\\n')\n",
    "\n",
    "q,r = np.linalg.qr(matrix.T) #need column space \n",
    "\n",
    "orth = q[:, :rank]\n",
    "print('Orthonormal basis for S: \\n')\n",
    "print(orth)"
   ]
  },
  {
   "cell_type": "markdown",
   "metadata": {},
   "source": [
    "# Question 2"
   ]
  },
  {
   "cell_type": "code",
   "execution_count": null,
   "metadata": {
    "collapsed": true
   },
   "outputs": [],
   "source": []
  },
  {
   "cell_type": "markdown",
   "metadata": {},
   "source": [
    "# Question 3"
   ]
  },
  {
   "cell_type": "code",
   "execution_count": null,
   "metadata": {
    "collapsed": true
   },
   "outputs": [],
   "source": []
  }
 ],
 "metadata": {
  "kernelspec": {
   "display_name": "Python 3",
   "language": "python",
   "name": "python3"
  },
  "language_info": {
   "codemirror_mode": {
    "name": "ipython",
    "version": 3
   },
   "file_extension": ".py",
   "mimetype": "text/x-python",
   "name": "python",
   "nbconvert_exporter": "python",
   "pygments_lexer": "ipython3",
   "version": "3.6.1"
  }
 },
 "nbformat": 4,
 "nbformat_minor": 2
}
